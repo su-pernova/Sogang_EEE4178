{
  "nbformat": 4,
  "nbformat_minor": 0,
  "metadata": {
    "colab": {
      "name": "20181202_2.ipynb",
      "provenance": [],
      "collapsed_sections": [],
      "machine_shape": "hm"
    },
    "kernelspec": {
      "name": "python3",
      "display_name": "Python 3"
    },
    "accelerator": "GPU"
  },
  "cells": [
    {
      "cell_type": "markdown",
      "metadata": {
        "id": "AJLEuV2OpG78"
      },
      "source": [
        "##인공지능개론 Project Model 2 : EMNIST by merge Classification"
      ]
    },
    {
      "cell_type": "code",
      "metadata": {
        "id": "7Po8s6u5iBhk"
      },
      "source": [
        "import time\n",
        "import torch\n",
        "import torchvision\n",
        "import torch.nn as nn\n",
        "import torch.nn.functional as F\n",
        "from torchvision import models, transforms\n",
        "import matplotlib.pyplot as plt\n",
        "import random"
      ],
      "execution_count": 344,
      "outputs": []
    },
    {
      "cell_type": "code",
      "metadata": {
        "id": "qghodyoaEpPn"
      },
      "source": [
        "SEED = 5882\n",
        "random.seed(SEED) # python\n",
        "torch.manual_seed(SEED) # torch\n",
        "torch.cuda.manual_seed(SEED) # cuda"
      ],
      "execution_count": 345,
      "outputs": []
    },
    {
      "cell_type": "markdown",
      "metadata": {
        "id": "XccgFIpzwS-U"
      },
      "source": [
        "> Define Hyper Parameters"
      ]
    },
    {
      "cell_type": "code",
      "metadata": {
        "id": "V_ZNBvHkls7T"
      },
      "source": [
        "# device configuration\n",
        "device = torch.device('cuda' if torch.cuda.is_available() else 'cpu')\n",
        "# hyper - parameters\n",
        "num_classes = 47 # 고정값 (EMNIST(bymerge))\n",
        "input_size = 28 # 고정값\n",
        "sequence_length = 28 # 고정값\n",
        "num_epochs = 7\n",
        "learning_rate = 0.001\n",
        "batch_size = 256\n",
        "hidden_dim = 256\n",
        "num_layers = 3\n",
        "drop_percent = 0.2"
      ],
      "execution_count": 346,
      "outputs": []
    },
    {
      "cell_type": "markdown",
      "metadata": {
        "id": "G9-r5aEgGIdL"
      },
      "source": [
        ">  Load Data and Define Data Loader : EMNIST by merge"
      ]
    },
    {
      "cell_type": "code",
      "metadata": {
        "id": "ol7PxMIfmjAc"
      },
      "source": [
        "train_data = torchvision.datasets.EMNIST(root='./EMNIST',\n",
        "                                         split='bymerge',\n",
        "                                         train=True,\n",
        "                                         download=True,\n",
        "                                         transform=transforms.ToTensor())\n",
        "test_data = torchvision.datasets.EMNIST(root='./EMNIST',\n",
        "                                         split='bymerge',\n",
        "                                         train=False,\n",
        "                                         download=True,\n",
        "                                         transform=transforms.ToTensor())"
      ],
      "execution_count": 347,
      "outputs": []
    },
    {
      "cell_type": "code",
      "metadata": {
        "id": "sV35EK-1pEyo"
      },
      "source": [
        "train_loader = torch.utils.data.DataLoader(train_data,\n",
        "                                     batch_size=batch_size,\n",
        "                                     shuffle=True)\n",
        "test_loader = torch.utils.data.DataLoader(test_data,\n",
        "                                     batch_size=batch_size,\n",
        "                                     shuffle=False)"
      ],
      "execution_count": 348,
      "outputs": []
    },
    {
      "cell_type": "markdown",
      "metadata": {
        "id": "zRZYw7SuGQDz"
      },
      "source": [
        ">  Build Model for EMNIST Classification"
      ]
    },
    {
      "cell_type": "code",
      "metadata": {
        "id": "V79poQV7Ducz"
      },
      "source": [
        "class Model2(nn.Module):\n",
        "  def __init__(self, input_size, hidden_dim, num_layers, num_classes, drop_percent):\n",
        "    super(Model2, self).__init__()\n",
        "    self.hidden_size = hidden_dim\n",
        "    self.num_layers = num_layers\n",
        "    self.drop_percent = drop_percent\n",
        "\n",
        "    self.dropout = nn.Dropout(drop_percent)\n",
        "    self.fc = nn.Linear(hidden_dim, num_classes)\n",
        "\n",
        "    self.lstm = nn.LSTM(input_size=input_size, hidden_size=hidden_dim, num_layers=num_layers, batch_first=True)\n",
        "\n",
        "  def forward(self, x):\n",
        "    h0 = torch.zeros(self.num_layers, x.size(0), self.hidden_size).to(device)\n",
        "    c0 = torch.zeros(self.num_layers, x.size(0), self.hidden_size).to(device)\n",
        "\n",
        "    out, _ = self.lstm(x, (h0, c0))\n",
        "    out = self.dropout(out)\n",
        "    out = self.fc(out[:,-1,:])\n",
        "\n",
        "    return out"
      ],
      "execution_count": 349,
      "outputs": []
    },
    {
      "cell_type": "code",
      "metadata": {
        "id": "Rzxc8oJ3N-iB"
      },
      "source": [
        "model = Model2(input_size, hidden_dim, num_layers, num_classes, drop_percent).to(device)"
      ],
      "execution_count": 350,
      "outputs": []
    },
    {
      "cell_type": "markdown",
      "metadata": {
        "id": "T0ZCmGlnOI44"
      },
      "source": [
        "> Set Loss Function and Optimizer"
      ]
    },
    {
      "cell_type": "code",
      "metadata": {
        "id": "9vRYyUKgOH5Q"
      },
      "source": [
        "criterion = nn.CrossEntropyLoss().to(device)\n",
        "optimizer = torch.optim.Adam(model.parameters(), lr=learning_rate)"
      ],
      "execution_count": 351,
      "outputs": []
    },
    {
      "cell_type": "markdown",
      "metadata": {
        "id": "V6cM0luEQ_gB"
      },
      "source": [
        "> Begin Training"
      ]
    },
    {
      "cell_type": "code",
      "metadata": {
        "id": "ZkEAY8v7RIfg"
      },
      "source": [
        "best_epoch = 0\n",
        "best_loss = float('inf')\n",
        "total_step = len(train_loader)\n",
        "loss_list = []"
      ],
      "execution_count": 352,
      "outputs": []
    },
    {
      "cell_type": "code",
      "metadata": {
        "id": "VLjNbT9fQ15O",
        "colab": {
          "base_uri": "https://localhost:8080/"
        },
        "outputId": "2d054a96-5bdb-4e92-fd76-d372276b97c8"
      },
      "source": [
        "start = time.time()\n",
        "for epoch in range(num_epochs):\n",
        "  for i, (image, label) in enumerate(train_loader):\n",
        "    image = image.reshape(-1, sequence_length, input_size).to(device)\n",
        "    label = label.to(device)\n",
        "\n",
        "    # Forward\n",
        "    output = model(image)\n",
        "    loss = criterion(output, label)\n",
        "\n",
        "    # Backward and optimize\n",
        "    optimizer.zero_grad()\n",
        "    loss.backward()\n",
        "    optimizer.step()\n",
        "\n",
        "    loss_list.append(loss.item())\n",
        "\n",
        "    if loss.item() < best_loss:\n",
        "      best_loss = loss.item()\n",
        "      torch.save(model.state_dict(), \"20181202_model2.pth\")\n",
        "\n",
        "    if (i+1) % 1000 == 0:\n",
        "      print(\"Epoch [{}/{}], Step[{}/{}], Loss:{:.4f}\".format(epoch+1, num_epochs, i+1, total_step, loss.item()))\n",
        "\n",
        "end = time.time()\n",
        "print(\"\\n>> Train takes {:.2f} minutes\".format((end-start)/60))"
      ],
      "execution_count": 353,
      "outputs": [
        {
          "output_type": "stream",
          "text": [
            "Epoch [1/7], Step[1000/2727], Loss:0.4990\n",
            "Epoch [1/7], Step[2000/2727], Loss:0.3504\n",
            "Epoch [2/7], Step[1000/2727], Loss:0.3609\n",
            "Epoch [2/7], Step[2000/2727], Loss:0.3041\n",
            "Epoch [3/7], Step[1000/2727], Loss:0.3362\n",
            "Epoch [3/7], Step[2000/2727], Loss:0.1997\n",
            "Epoch [4/7], Step[1000/2727], Loss:0.2417\n",
            "Epoch [4/7], Step[2000/2727], Loss:0.2449\n",
            "Epoch [5/7], Step[1000/2727], Loss:0.2363\n",
            "Epoch [5/7], Step[2000/2727], Loss:0.3308\n",
            "Epoch [6/7], Step[1000/2727], Loss:0.2128\n",
            "Epoch [6/7], Step[2000/2727], Loss:0.2347\n",
            "Epoch [7/7], Step[1000/2727], Loss:0.1941\n",
            "Epoch [7/7], Step[2000/2727], Loss:0.2678\n",
            "\n",
            ">> Train takes 13.90 minutes\n"
          ],
          "name": "stdout"
        }
      ]
    },
    {
      "cell_type": "markdown",
      "metadata": {
        "id": "O9yJaQjFvTSZ"
      },
      "source": [
        "> Show the Loss Graph of Training"
      ]
    },
    {
      "cell_type": "code",
      "metadata": {
        "colab": {
          "base_uri": "https://localhost:8080/",
          "height": 281
        },
        "id": "ZsJZclmotjwH",
        "outputId": "fe8e28a4-9ffe-44ad-f5b2-87d4a7ad3d37"
      },
      "source": [
        "plt.plot(loss_list)\n",
        "plt.title(\"EMNIST Classification with Model2\")\n",
        "plt.show()"
      ],
      "execution_count": 356,
      "outputs": [
        {
          "output_type": "display_data",
          "data": {
            "image/png": "[encoded data removed]",
            "text/plain": [
              "<Figure size 432x288 with 1 Axes>"
            ]
          },
          "metadata": {
            "tags": [],
            "needs_background": "light"
          }
        }
      ]
    },
    {
      "cell_type": "markdown",
      "metadata": {
        "id": "Yz6wvX244k-g"
      },
      "source": [
        "> Test Model2 and Check Accuracy"
      ]
    },
    {
      "cell_type": "code",
      "metadata": {
        "colab": {
          "base_uri": "https://localhost:8080/"
        },
        "id": "tKcfgGEdAvnZ",
        "outputId": "fa2b6e23-ca3f-4e9d-84a7-d11bf51d2a79"
      },
      "source": [
        "model.load_state_dict(torch.load('./20181202_model2.pth'))\n",
        "\n",
        "with torch.no_grad():\n",
        "  correct = 0\n",
        "  \n",
        "  for image, label in test_loader:\n",
        "    image = image.reshape(-1, sequence_length, input_size).to(device)\n",
        "    label = label.to(device)\n",
        "    output = model(image)\n",
        "    _ , pred = torch.max(output.data, 1)\n",
        "    correct += (pred == label).sum().item()\n",
        "\n",
        "  print(\"Accuracy of Model1 on the {} test images: {}%\".format(len(test_loader)*batch_size, 100 * correct / (len(test_loader) * batch_size)))"
      ],
      "execution_count": 357,
      "outputs": [
        {
          "output_type": "stream",
          "text": [
            "Accuracy of Model1 on the 116480 test images: 90.07383241758242%\n"
          ],
          "name": "stdout"
        }
      ]
    },
    {
      "cell_type": "code",
      "metadata": {
        "id": "vdoqNbc9LtfP"
      },
      "source": [
        ""
      ],
      "execution_count": null,
      "outputs": []
    }
  ]
}