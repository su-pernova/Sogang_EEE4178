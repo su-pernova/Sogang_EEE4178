{
  "nbformat": 4,
  "nbformat_minor": 0,
  "metadata": {
    "colab": {
      "name": "20181202_1.ipynb",
      "provenance": [],
      "collapsed_sections": [],
      "machine_shape": "hm"
    },
    "kernelspec": {
      "name": "python3",
      "display_name": "Python 3"
    },
    "accelerator": "GPU"
  },
  "cells": [
    {
      "cell_type": "markdown",
      "metadata": {
        "id": "Qzc3hA7Bi3XQ"
      },
      "source": [
        "##인공지능개론 Project Model 1 : EMNIST Digit/Letter Classification"
      ]
    },
    {
      "cell_type": "code",
      "metadata": {
        "id": "7Po8s6u5iBhk"
      },
      "source": [
        "import time\n",
        "import torch\n",
        "import torchvision\n",
        "import torch.nn as nn\n",
        "import torch.nn.functional as F\n",
        "from torchvision import models, transforms\n",
        "from ProjectUtils import *\n",
        "import matplotlib.pyplot as plt\n",
        "import random"
      ],
      "execution_count": 358,
      "outputs": []
    },
    {
      "cell_type": "code",
      "metadata": {
        "id": "XmrUlhA8Qc4C"
      },
      "source": [
        "SEED = 8339\n",
        "random.seed(SEED) # python\n",
        "torch.manual_seed(SEED) # torch\n",
        "torch.cuda.manual_seed(SEED) # cuda"
      ],
      "execution_count": 359,
      "outputs": []
    },
    {
      "cell_type": "markdown",
      "metadata": {
        "id": "f3_WKScLjXUi"
      },
      "source": [
        "> Define Hyper Parameters"
      ]
    },
    {
      "cell_type": "code",
      "metadata": {
        "id": "Q-o58Bij1Yqv"
      },
      "source": [
        "# device configuration\n",
        "device = torch.device('cuda' if torch.cuda.is_available() else 'cpu')\n",
        "# hyper parameters\n",
        "num_classes = 2 # 고정값 (digit = 0, letter = 1)\n",
        "input_size = 28 # 고정값\n",
        "sequence_length = 28 # 고정값\n",
        "num_epochs = 8\n",
        "learning_rate = 0.001 \n",
        "batch_size = 256 \n",
        "hidden_dim = 128 \n",
        "num_layers = 3 \n",
        "drop_percent = 0.2 "
      ],
      "execution_count": 360,
      "outputs": []
    },
    {
      "cell_type": "markdown",
      "metadata": {
        "id": "qAVnLvLzFZSZ"
      },
      "source": [
        ">  Load Data and Define Data Loader : EMNIST _ Digit and Letter"
      ]
    },
    {
      "cell_type": "code",
      "metadata": {
        "id": "mDsFRMo31ZuI"
      },
      "source": [
        "train_data = TypeData(train=True)\n",
        "test_data = TypeData(train=False)"
      ],
      "execution_count": 361,
      "outputs": []
    },
    {
      "cell_type": "code",
      "metadata": {
        "id": "3_tFuziq7vwo"
      },
      "source": [
        "train_loader = torch.utils.data.DataLoader(dataset=train_data,\n",
        "                                           batch_size=batch_size,\n",
        "                                           shuffle=True)\n",
        "test_loader = torch.utils.data.DataLoader(dataset=test_data,\n",
        "                                          batch_size=batch_size,\n",
        "                                          shuffle=False)"
      ],
      "execution_count": 362,
      "outputs": []
    },
    {
      "cell_type": "markdown",
      "metadata": {
        "id": "GY8d6RJHFtM2"
      },
      "source": [
        ">  Build Model for EMNIST Digit/Letter Classification"
      ]
    },
    {
      "cell_type": "code",
      "metadata": {
        "id": "S3urYwSeFGJq"
      },
      "source": [
        "class Model1(nn.Module):\n",
        "  def __init__(self, input_size, hidden_dim, num_layers, num_classes, drop_percent):\n",
        "    super(Model1, self).__init__()\n",
        "    self.hidden_size = hidden_dim\n",
        "    self.num_layers = num_layers\n",
        "\n",
        "    self.drop_percent = drop_percent\n",
        "    self.dropout = nn.Dropout(drop_percent)\n",
        "\n",
        "    self.fc = nn.Linear(hidden_dim, num_classes)\n",
        "    self.lstm = nn.LSTM(input_size=input_size, hidden_size=hidden_dim, num_layers=num_layers, batch_first=True)\n",
        "\n",
        "  def forward(self, x):\n",
        "    h0 = torch.zeros(self.num_layers, x.size(0), self.hidden_size).to(device)\n",
        "    c0 = torch.zeros(self.num_layers, x.size(0), self.hidden_size).to(device)\n",
        "\n",
        "    out, _ = self.lstm(x, (h0, c0))\n",
        "    out = self.dropout(out)\n",
        "    out = self.fc(out[:,-1,:])\n",
        "\n",
        "    return out"
      ],
      "execution_count": 363,
      "outputs": []
    },
    {
      "cell_type": "code",
      "metadata": {
        "id": "Kxt66ANc3sPA"
      },
      "source": [
        "model = Model1(input_size, hidden_dim, num_layers, num_classes, drop_percent).to(device)"
      ],
      "execution_count": 364,
      "outputs": []
    },
    {
      "cell_type": "markdown",
      "metadata": {
        "id": "ULAVwwWzubDe"
      },
      "source": [
        ">Define Loss Function and Optimizer"
      ]
    },
    {
      "cell_type": "code",
      "metadata": {
        "id": "B5YHYDBouKLH"
      },
      "source": [
        "criterion = nn.CrossEntropyLoss().to(device)\n",
        "optimizer = torch.optim.Adam(model.parameters(), lr=learning_rate)"
      ],
      "execution_count": 365,
      "outputs": []
    },
    {
      "cell_type": "markdown",
      "metadata": {
        "id": "lCmxuPICV2To"
      },
      "source": [
        "> Begin Training Model1"
      ]
    },
    {
      "cell_type": "code",
      "metadata": {
        "id": "pEZUgE9h3wWW"
      },
      "source": [
        "best_epoch = 0\n",
        "best_loss = float('inf')\n",
        "total_step = len(train_loader)\n",
        "loss_list = []"
      ],
      "execution_count": 366,
      "outputs": []
    },
    {
      "cell_type": "code",
      "metadata": {
        "colab": {
          "base_uri": "https://localhost:8080/"
        },
        "id": "kxFqh6lX30pX",
        "outputId": "6638133a-9a20-4f1e-a44c-1f347aed7672"
      },
      "source": [
        "start = time.time()\n",
        "for epoch in range(num_epochs):\n",
        "  for i, (image, label) in enumerate(train_loader):\n",
        "    image = image.reshape(-1, sequence_length, input_size).to(device)\n",
        "    label = label.to(device).long()\n",
        "\n",
        "    # Forward\n",
        "    output = model(image)\n",
        "    loss = criterion(output, label)\n",
        "    # Backward and optimize\n",
        "    optimizer.zero_grad()\n",
        "    loss.backward()\n",
        "    optimizer.step()\n",
        "\n",
        "    loss_list.append(loss.item())\n",
        "\n",
        "    if loss.item() < best_loss:\n",
        "      best_loss = loss.item()\n",
        "      torch.save(model.state_dict(), \"20181202_model1.pth\")\n",
        "\n",
        "    if (i+1) % 1000 == 0:\n",
        "      print(\"Epoch [{}/{}], Step[{}/{}], Loss:{:.4f}\".format(epoch+1, num_epochs, i+1, total_step, loss.item()))\n",
        "\n",
        "end = time.time()\n",
        "print(\"\\n>> Train takes {:.2f}minutes\".format((end-start)/60))"
      ],
      "execution_count": 367,
      "outputs": [
        {
          "output_type": "stream",
          "text": [
            "Epoch [1/8], Step[1000/2727], Loss:0.2947\n",
            "Epoch [1/8], Step[2000/2727], Loss:0.1744\n",
            "Epoch [2/8], Step[1000/2727], Loss:0.1760\n",
            "Epoch [2/8], Step[2000/2727], Loss:0.1462\n",
            "Epoch [3/8], Step[1000/2727], Loss:0.1720\n",
            "Epoch [3/8], Step[2000/2727], Loss:0.1536\n",
            "Epoch [4/8], Step[1000/2727], Loss:0.1647\n",
            "Epoch [4/8], Step[2000/2727], Loss:0.1666\n",
            "Epoch [5/8], Step[1000/2727], Loss:0.1791\n",
            "Epoch [5/8], Step[2000/2727], Loss:0.1849\n",
            "Epoch [6/8], Step[1000/2727], Loss:0.1656\n",
            "Epoch [6/8], Step[2000/2727], Loss:0.1685\n",
            "Epoch [7/8], Step[1000/2727], Loss:0.1141\n",
            "Epoch [7/8], Step[2000/2727], Loss:0.1695\n",
            "Epoch [8/8], Step[1000/2727], Loss:0.1342\n",
            "Epoch [8/8], Step[2000/2727], Loss:0.1519\n",
            "\n",
            ">> Train takes 14.07minutes\n"
          ],
          "name": "stdout"
        }
      ]
    },
    {
      "cell_type": "markdown",
      "metadata": {
        "id": "5345VzcX4cZv"
      },
      "source": [
        "> Show the Loss Graph of Training"
      ]
    },
    {
      "cell_type": "code",
      "metadata": {
        "id": "e-7Wx5Rq4X7R",
        "colab": {
          "base_uri": "https://localhost:8080/",
          "height": 281
        },
        "outputId": "e5ae9510-99c4-4344-cfc0-894bac76dc0b"
      },
      "source": [
        "plt.plot(loss_list)\n",
        "plt.title(\"EMNIST Digit/Label Classification with Model1\")\n",
        "plt.show()"
      ],
      "execution_count": 370,
      "outputs": [
        {
          "output_type": "display_data",
          "data": {
            "image/png": "[encoded data removed]",
            "text/plain": [
              "<Figure size 432x288 with 1 Axes>"
            ]
          },
          "metadata": {
            "tags": [],
            "needs_background": "light"
          }
        }
      ]
    },
    {
      "cell_type": "markdown",
      "metadata": {
        "id": "iIzcRWIR4xEf"
      },
      "source": [
        "> Test Model1 and Show Accuracy"
      ]
    },
    {
      "cell_type": "code",
      "metadata": {
        "colab": {
          "base_uri": "https://localhost:8080/"
        },
        "id": "xmIIAY1FwLrl",
        "outputId": "fed465b6-9327-4617-8d33-6f4ee1d38130"
      },
      "source": [
        "model.load_state_dict(torch.load('./20181202_model1.pth'))\n",
        "\n",
        "with torch.no_grad():\n",
        "  correct = 0\n",
        "  \n",
        "  for image, label in test_loader:\n",
        "    image = image.reshape(-1, sequence_length, input_size).to(device)\n",
        "    label = label.to(device)\n",
        "    output = model(image)\n",
        "    _ , pred = torch.max(output.data, 1)\n",
        "    correct += (pred == label).sum().item()\n",
        "\n",
        "  print(\"Accuracy of Model1 on the {} test images: {}%\".format(len(test_loader)*batch_size, 100 * correct / (len(test_loader) * batch_size)))"
      ],
      "execution_count": 371,
      "outputs": [
        {
          "output_type": "stream",
          "text": [
            "Accuracy of Model1 on the 116480 test images: 92.05528846153847%\n"
          ],
          "name": "stdout"
        }
      ]
    },
    {
      "cell_type": "code",
      "metadata": {
        "id": "Qa3ASrr5LwGc"
      },
      "source": [
        ""
      ],
      "execution_count": null,
      "outputs": []
    }
  ]
}